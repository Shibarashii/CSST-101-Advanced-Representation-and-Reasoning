{
  "nbformat": 4,
  "nbformat_minor": 0,
  "metadata": {
    "colab": {
      "provenance": [],
      "toc_visible": true
    },
    "kernelspec": {
      "name": "python3",
      "display_name": "Python 3"
    },
    "language_info": {
      "name": "python"
    }
  },
  "cells": [
    {
      "cell_type": "markdown",
      "source": [
        "**Name**: Seanrei Ethan M. Valdeabella\n",
        "\n",
        "**Section**: BSCS 3B-IS\n",
        "\n",
        "**Course:** CSST 101 - Advance Reasoning and Representation"
      ],
      "metadata": {
        "id": "hWaQTo9ZG0e-"
      }
    },
    {
      "cell_type": "markdown",
      "source": [
        "# I. Defining the Problem and System Design"
      ],
      "metadata": {
        "id": "DuN-eKjWGoXm"
      }
    },
    {
      "cell_type": "markdown",
      "source": [
        "## Disease: Coronary Heart Disease\n",
        "\n",
        "Contributing Factors:\n",
        "- Age: As people age, the heart risk increases\n",
        "- Sex: Generally, males have higher risk of heart disease than females (before menopause)\n",
        "- Cholesterol Level: People with higher cholesterol levels have higher risk of heart disease"
      ],
      "metadata": {
        "id": "0CaVApglMAVi"
      }
    },
    {
      "cell_type": "markdown",
      "source": [
        "# II. Basic Probability Calculations"
      ],
      "metadata": {
        "id": "5MWR6TsrNxW4"
      }
    },
    {
      "cell_type": "markdown",
      "source": [
        "## Naive Bayes Theorem\n",
        "The formula for Naive Bayes is:\n",
        "$$\n",
        "P(C|X) = \\frac{P(X|C) \\cdot P(C)}{P(X)}\n",
        "$$\n",
        "\n",
        "\n",
        "Where:\n",
        "- $ P(C|X) $ is the posterior probability of class $ C $ given the features $ X $.\n",
        "- $ P(X|C) $ is the likelihood, which is the probability of features $ X $ given class $ C $.\n",
        "- $ P(C) $ is the prior probability of class $ C $.\n",
        "- $ P(X) $ is the marginal likelihood of features $ X $.\n",
        "\n",
        "Let's substitute the values:\n",
        "\n",
        "$$\n",
        "P(Disease|Positive) = \\frac{P(Positive|Disease) \\cdot P(Disease)}{P(Positive)}\n",
        "$$\n",
        "\n",
        "<br>\n",
        "In our case, we will assume that the probability of getting a coronary heart disease is 0.02 (2% of the population). Therefore:\n",
        "\n",
        "$$ P(Disease) = 0.02 $$\n",
        "\n",
        "<br>\n",
        "The probability of testing positive when they have coronary heart disease is 95%. Therefore the test sensitivity is denoted as:\n",
        "\n",
        "$$ P(Positive|Disease) = 0.95 $$\n",
        "\n",
        "<br>\n",
        "With this in mind, the probability of a false positive is the opposite, which is 5%. Therefore:\n",
        "\n",
        "$$ P(Positive|No Disease) = 0.05 $$\n",
        "\n",
        "<br>\n",
        "The probability of a positive result in the population is 6%. Therfore:\n",
        "\n",
        "$$ P(Positive) = 0.06% $$\n",
        "\n"
      ],
      "metadata": {
        "id": "gUDabtB_N5cX"
      }
    },
    {
      "cell_type": "markdown",
      "source": [
        "## Computing the Posterior Probability\n",
        "\n",
        "Now let's compute the posterior probability. Let us substitute the values\n",
        "\n",
        "$ P(Disease) = 0.02 $\n",
        "\n",
        "$ P(Positive|Disease) = 0.95 $\n",
        "\n",
        "$ P(Positive|No Disease) = 0.05 $\n",
        "\n",
        "$ P(Positive) = 0.06% $  \n",
        "\n",
        "$$\n",
        "P(Disease|Positive) = \\frac{0.95 \\cdot 0.02}{0.06}\n",
        "$$\n",
        "\n",
        "\n",
        "Therefore:\n",
        "$$\n",
        "P(Disease|Positive) = 0.3167\n",
        "$$\n",
        "\n",
        "<br>\n",
        "\n",
        "This means that a patient has a 31.67% chance that a patient has a disease given a positive test result\n"
      ],
      "metadata": {
        "id": "mOsIdv5fpb3t"
      }
    },
    {
      "cell_type": "markdown",
      "source": [],
      "metadata": {
        "id": "h9YUJhFyu_JH"
      }
    },
    {
      "cell_type": "code",
      "source": [
        "P_disease = 0.02\n",
        "P_positive_given_disease = 0.95\n",
        "P_positive_given_no_disease = 0.05\n",
        "P_positive = 0.06\n",
        "\n",
        "P_disease_given_positive = (P_positive_given_disease * P_disease) / P_positive\n",
        "\n",
        "print(f\"Probability of Disease given Positive: {P_disease_given_positive:.4f}\")"
      ],
      "metadata": {
        "colab": {
          "base_uri": "https://localhost:8080/"
        },
        "id": "7Df9TF8rtrc1",
        "outputId": "4e70b5e7-0bd8-4969-e644-fbd4385ac4ac"
      },
      "execution_count": null,
      "outputs": [
        {
          "output_type": "stream",
          "name": "stdout",
          "text": [
            "Probability of Disease given Positive: 0.3167\n"
          ]
        }
      ]
    },
    {
      "cell_type": "markdown",
      "source": [
        "# III. Decision-Making Simulation\n"
      ],
      "metadata": {
        "id": "iEdiLOqoumfC"
      }
    },
    {
      "cell_type": "code",
      "source": [
        "P_success = 0.7\n",
        "P_failure = 0.3\n",
        "\n",
        "benefit = 100\n",
        "loss = -50\n",
        "\n",
        "expected_improvement = (P_success * benefit) + (P_failure * loss)\n",
        "\n",
        "print(f\"Expected Improvement: {expected_improvement}\")"
      ],
      "metadata": {
        "colab": {
          "base_uri": "https://localhost:8080/"
        },
        "id": "LPLTgSofuqlr",
        "outputId": "d43c2168-1500-4bf8-ded8-3359ed5a09e3"
      },
      "execution_count": null,
      "outputs": [
        {
          "output_type": "stream",
          "name": "stdout",
          "text": [
            "Expected Improvement: 55.0\n"
          ]
        }
      ]
    },
    {
      "cell_type": "markdown",
      "source": [
        "# IV. Visualize a Probability Distribution"
      ],
      "metadata": {
        "id": "3GAxL_vAvf37"
      }
    },
    {
      "cell_type": "code",
      "source": [
        "import numpy as np\n",
        "import matplotlib.pyplot as plt\n",
        "from scipy.stats import binom\n",
        "\n",
        "n = 5\n",
        "p = 0.5\n",
        "\n",
        "x = np.arange(0, n+1)\n",
        "probabilities = binom.pmf(x, n, p)\n",
        "\n",
        "plt.bar(x, probabilities, color='blue', alpha=0.7)\n",
        "plt.xlabel(\"Number of Heads\")\n",
        "plt.ylabel(\"Probability\")\n",
        "plt.title(\"Binomial Distribution of Coin Flips (n=5, p=0.5)\")\n",
        "plt.xticks(x)\n",
        "\n",
        "plt.show()"
      ],
      "metadata": {
        "colab": {
          "base_uri": "https://localhost:8080/",
          "height": 472
        },
        "id": "2Xvw24zyvxNT",
        "outputId": "21fc22df-19a3-4179-ae81-ee41ff5c0bb8"
      },
      "execution_count": null,
      "outputs": [
        {
          "output_type": "display_data",
          "data": {
            "text/plain": [
              "<Figure size 640x480 with 1 Axes>"
            ],
            "image/png": "[encoded data removed]"
          },
          "metadata": {}
        }
      ]
    },
    {
      "cell_type": "markdown",
      "source": [
        "# V. Reflection Questions"
      ],
      "metadata": {
        "id": "C2io0Yd6xZU5"
      }
    },
    {
      "cell_type": "markdown",
      "source": [
        "Understanding probability theory helps in understanding medical diagnosis for several reasons. It helps doctors understand the likelihood that a patient has a disease after receiving a test result. Understanding false postives or false negatives helps doctors evaluate the accuracy and reliability of tests. Overall, probability theory helps doctors understand the diseases better"
      ],
      "metadata": {
        "id": "XrdjHDoKxdkn"
      }
    }
  ]
}