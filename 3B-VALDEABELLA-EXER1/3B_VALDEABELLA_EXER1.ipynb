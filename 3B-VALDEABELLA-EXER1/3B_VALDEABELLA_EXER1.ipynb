{
  "nbformat": 4,
  "nbformat_minor": 0,
  "metadata": {
    "colab": {
      "provenance": [],
      "collapsed_sections": [
        "PmN372ZVzIXP",
        "ybaouXqpEe_P",
        "HXg7cbzg9g9c",
        "Boi9TVoCE-hK"
      ]
    },
    "kernelspec": {
      "name": "python3",
      "display_name": "Python 3"
    },
    "language_info": {
      "name": "python"
    }
  },
  "cells": [
    {
      "cell_type": "markdown",
      "source": [
        "- **NAME:** Seanrei Ethan M. Valdeabella\n",
        "- **SECTION:** BSCS 3B\n",
        "- **COURSE:** CCST 101: Advance Representation Reasoning\n",
        "- **Exercise 1:** Propositional Logic in Python"
      ],
      "metadata": {
        "id": "FRYVBBQxyPki"
      }
    },
    {
      "cell_type": "markdown",
      "source": [
        "# **Exercise 1: Propositional Logic in Python**\n",
        "\n"
      ],
      "metadata": {
        "id": "PmN372ZVzIXP"
      }
    },
    {
      "cell_type": "markdown",
      "source": [
        "1. Represent the following statements using propositional logic\"\n",
        "- \"If it rains, the ground will be wet\"\n",
        "- \"If the ground is wet, the match will not light\"\n",
        "- \"It is raining\"\n",
        "\n",
        "2. Implement this using Python to simulate the condition and use simple logical inference to determine if the match will light or not.\n",
        "\n",
        "| is_raining | ground_wet | match_lit |\n",
        "| ---------- | ---------- | --------- |\n",
        "| True       | True       | False     |\n",
        "| False      | False      | True      |"
      ],
      "metadata": {
        "id": "ybaouXqpEe_P"
      }
    },
    {
      "cell_type": "code",
      "execution_count": null,
      "metadata": {
        "colab": {
          "base_uri": "https://localhost:8080/"
        },
        "id": "ATp7VSvoukqn",
        "outputId": "f09060dd-3582-4d3f-9422-2492f63977af"
      },
      "outputs": [
        {
          "output_type": "stream",
          "name": "stdout",
          "text": [
            "\n",
            "  Is it raining? False\n",
            "  Ground is wet? False\n",
            "  Match will not light? True\n",
            "  \n"
          ]
        }
      ],
      "source": [
        "is_raining = False #@param {type: \"boolean\"}\n",
        "ground_wet = False #@param {type: \"boolean\"}\n",
        "match_lit = False #@param {type: \"boolean\"}\n",
        "\n",
        "if is_raining and match_lit == True or ground_wet and match_lit == True:\n",
        "  result = \"Does not make sense\"\n",
        "\n",
        "else:\n",
        "  if is_raining:\n",
        "    ground_wet = True\n",
        "    match_lit = False\n",
        "\n",
        "  elif ground_wet:\n",
        "    match_lit = False\n",
        "    is_raining = True\n",
        "\n",
        "  elif match_lit:\n",
        "    is_raining = False\n",
        "    ground_wet = False\n",
        "\n",
        "  else:\n",
        "    match_lit = True\n",
        "\n",
        "\n",
        "  result = f\"\"\"\n",
        "  Is it raining? {is_raining}\n",
        "  Ground is wet? {ground_wet}\n",
        "  Match will not light? {match_lit}\n",
        "  \"\"\"\n",
        "\n",
        "\n",
        "print(result)"
      ]
    },
    {
      "cell_type": "markdown",
      "source": [
        "# Exercise 2: Predicate Logic Representation"
      ],
      "metadata": {
        "id": "HXg7cbzg9g9c"
      }
    },
    {
      "cell_type": "markdown",
      "source": [
        "- \"All humans are mortal\"\n",
        "- \"Scorates is a human\"\n",
        "- \"Therefore, Socrates is mortal\""
      ],
      "metadata": {
        "id": "Bt3lXs0O-Ato"
      }
    },
    {
      "cell_type": "code",
      "source": [
        "def is_human(person):\n",
        "  return person == \"Socrates\"\n",
        "\n",
        "def is_mortal(person):\n",
        "  if is_human(person):\n",
        "    return True\n",
        "  return False\n",
        "\n",
        "sample = \"Socrates\"\n",
        "\n",
        "result = f\"{sample} is mortal\" if is_mortal(sample) else f\"{sample} is not mortal\"\n",
        "print(result)"
      ],
      "metadata": {
        "colab": {
          "base_uri": "https://localhost:8080/"
        },
        "id": "XAOGWTQd-LQP",
        "outputId": "b9a915a6-8294-475d-8214-41b3fc491ad1"
      },
      "execution_count": null,
      "outputs": [
        {
          "output_type": "stream",
          "name": "stdout",
          "text": [
            "Socrates is mortal\n"
          ]
        }
      ]
    },
    {
      "cell_type": "markdown",
      "source": [
        "# Exercise 3: inference Techniques in Logic-Based Systems"
      ],
      "metadata": {
        "id": "VAhxBnpk_a9C"
      }
    },
    {
      "cell_type": "markdown",
      "source": [
        "- Rule: \"If X is true, then Y is true\n",
        "- Fact: \"X is true\"\n",
        "- Conclusion: \"Y is true\""
      ],
      "metadata": {
        "id": "s-PsFQZa_iov"
      }
    },
    {
      "cell_type": "code",
      "source": [
        "def modus_ponens(rules, facts):\n",
        "  conclusions = []\n",
        "  for rule in rules:\n",
        "    premise, conclusion = rule\n",
        "    if premise in facts:\n",
        "      conclusions.append(conclusion)\n",
        "  return conclusions\n",
        "\n",
        "rules = [(\"X\", \"Y\",)]\n",
        "facts = [\"X\"]\n",
        "\n",
        "conclusions = modus_ponens(rules,facts)\n",
        "print(f\"Inferred Conclusions: {conclusions}\")"
      ],
      "metadata": {
        "colab": {
          "base_uri": "https://localhost:8080/"
        },
        "id": "cKMkZrWk_yT2",
        "outputId": "28546582-e9f5-4769-82b5-6c059b952d0f"
      },
      "execution_count": null,
      "outputs": [
        {
          "output_type": "stream",
          "name": "stdout",
          "text": [
            "Inferred Conclusions: ['Y']\n"
          ]
        }
      ]
    },
    {
      "cell_type": "markdown",
      "source": [
        "# Exercise 4"
      ],
      "metadata": {
        "id": "ImI96Q1VBF1B"
      }
    },
    {
      "cell_type": "markdown",
      "source": [
        "- \"If a person is hungry, they will eat first\"\n",
        "- If a person eats, they will no longer be hungry\"\n",
        "- \"John is hungry\"\n"
      ],
      "metadata": {
        "id": "LQumxfXOBOlK"
      }
    },
    {
      "cell_type": "code",
      "source": [
        "class Person:\n",
        "  name = \"\"\n",
        "  is_hungry = False\n",
        "\n",
        "  def eat(self):\n",
        "    if self.is_hungry:\n",
        "      print(f\"{self.name} is eating\")\n",
        "      self.is_hungry = False\n",
        "    else:\n",
        "      print(f\"{self.name} is not hungry. He will not eat\")\n",
        "\n",
        "\n",
        "John = Person()\n",
        "John.name = \"John\"\n",
        "John.is_hungry = True\n",
        "\n",
        "print(f\"John hungry? {John.is_hungry}\")\n",
        "\n",
        "John.eat()\n",
        "print(f\"John hungry? {John.is_hungry}\")\n"
      ],
      "metadata": {
        "colab": {
          "base_uri": "https://localhost:8080/"
        },
        "id": "eOlihuTfBa_w",
        "outputId": "7b4bd3c6-db5f-4376-fab2-2a9ad97898a6"
      },
      "execution_count": null,
      "outputs": [
        {
          "output_type": "stream",
          "name": "stdout",
          "text": [
            "John hungry? True\n",
            "John is eating\n",
            "John hungry? False\n"
          ]
        }
      ]
    },
    {
      "cell_type": "markdown",
      "source": [
        "# Implement a Logic-Based Model in Python"
      ],
      "metadata": {
        "id": "Boi9TVoCE-hK"
      }
    },
    {
      "cell_type": "code",
      "source": [
        "def is_greeting(statement):\n",
        "  greetings = [\"hello\", \"hi\", \"hey\"]\n",
        "  return statement.lower() in greetings\n",
        "\n",
        "def respond(statement):\n",
        "  if is_greeting(statement):\n",
        "    return \"Hello! How can I help you today?\"\n",
        "  else:\n",
        "    return \"I am not sure how to respond to that\"\n",
        "\n",
        "user_input = input(\"User: \")\n",
        "response = respond(user_input)\n",
        "print(f\"Chatbot: {response}\")"
      ],
      "metadata": {
        "colab": {
          "base_uri": "https://localhost:8080/"
        },
        "id": "LdLcDVmLFDXh",
        "outputId": "221c28d0-d447-4229-deba-7dc06d892160"
      },
      "execution_count": null,
      "outputs": [
        {
          "output_type": "stream",
          "name": "stdout",
          "text": [
            "User: nigga\n",
            "Chatbot: I am not sure how to respond to that\n"
          ]
        }
      ]
    },
    {
      "cell_type": "markdown",
      "source": [
        "# Case Study Discussion\n"
      ],
      "metadata": {
        "id": "_xEgM0rWHNRU"
      }
    },
    {
      "cell_type": "markdown",
      "source": [
        "**Objective:**\n",
        "Analyze real-world case study where logic-based models are used for decision-making (e.g. in AI systems or expert systemts).\n",
        "\n",
        "Task:\n",
        "- 1. Study an AI system that uses logic-based reasoning (e.g. expert systems, chatbots).\n",
        "- 2. Discuss how propositional or predicate logic is applied in such systems.\n",
        "- 3. Reflect on the advantages and challenges of using logic-based models in real-world applications."
      ],
      "metadata": {
        "id": "Memfd7PQHRgE"
      }
    }
  ]
}